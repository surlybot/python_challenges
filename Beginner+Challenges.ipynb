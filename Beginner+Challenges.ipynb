{
 "cells": [
  {
   "cell_type": "markdown",
   "metadata": {},
   "source": [
    "<a name=\"top\"></a>\n",
    "# Beginner Challenges - All Successfully completed challenges worth 1 point | Bonus challenges worth .5 points\n",
    "\n",
    "\n",
    "<ul style=\"list-style:none;\">\n",
    "<li><a href=\"#beginner1\">Beginner Challenge 1 - Greetings, Fellow Kids!</a></li>\n",
    "<li><a href=\"#beginner2\">Beginner Challenge 2 - How old are you?</a></li>\n",
    "<li><a href=\"#beginner3\">Beginner Challenge 3 - You can't win, Darth</a></li>\n",
    "<li><a href=\"#beginner4\">Beginner Challenge 4 - Fun with Lists</a></li>\n",
    "<li><a href=\"#beginner5\">Beginner Challenge 5 - Revenge of the List</a></li>\n",
    "<li><a href=\"#beginner6\">Beginner Challenge 6 - Werds wif Frands</a></li>\n",
    "</ul>\n",
    "\n",
    "<a href=\"PyNight Dashboard.ipynb\"> << Back to PyNight Control Dashboard</a>"
   ]
  },
  {
   "cell_type": "markdown",
   "metadata": {},
   "source": [
    "<a name=\"beginner1\"></a>\n",
    "### Beginner Challenge 1\n",
    "\n",
    "<img src='http://i.imgur.com/KYTmsmS.gif'>\n",
    "\n",
    "#### Create a simple program to take in user input for their name and then print a greeting to this user.\n",
    "\n",
    "```python\n",
    "'Hello, <user>'\n",
    "```"
   ]
  },
  {
   "cell_type": "code",
   "execution_count": 1,
   "metadata": {
    "collapsed": false
   },
   "outputs": [
    {
     "name": "stdout",
     "output_type": "stream",
     "text": [
      "name: billy\n",
      "Hello, billy\n"
     ]
    }
   ],
   "source": [
    "k = input('name: ')\n",
    "print('Hello, {}'.format(k))\n",
    "\n"
   ]
  },
  {
   "cell_type": "markdown",
   "metadata": {},
   "source": [
    "<a name=\"beginner2\"></a>\n",
    "### Beginner Challenge 2\n",
    "\n",
    "#### Next, allow this user to enter in their year of birth and calculate how old they are or are turning this year (2017).\n",
    "\n",
    "Hint: You'll need to import math module"
   ]
  },
  {
   "cell_type": "code",
   "execution_count": 3,
   "metadata": {
    "collapsed": false
   },
   "outputs": [
    {
     "name": "stdout",
     "output_type": "stream",
     "text": [
      "year of birth: 1985\n",
      "you 32 years old\n"
     ]
    }
   ],
   "source": [
    "import math\n",
    "l = int(input('year of birth: '))\n",
    "age = 2017 - l\n",
    "print('you {} years old'.format(age))"
   ]
  },
  {
   "cell_type": "markdown",
   "metadata": {},
   "source": [
    "<a name=\"beginner3\"></a>\n",
    "### Beginner Challenge 3\n",
    "\n",
    "<img src=\"http://i.imgur.com/cFdkgZT.gif\">\n",
    "\n",
    "#### Using the following quote, determine how many characters are in the sentence.\n",
    "\n",
    "> You can’t win, Darth. Strike me down, and I will become more powerful than you could possibly imagine.\"\n",
    "\n",
    "#### Bonus 1:\n",
    "Determine the first occurence for the letter 'r'.\n",
    "\n",
    "#### Bonus 2:\n",
    "Count how many times the letter 'i' occurs.\n",
    "\n",
    "#### Bonus 3:\n",
    "Using Python, place all words in a list and determine how many words are in the sentence.\n",
    "\n",
    "<a href=\"#top\">Top of Page</a>"
   ]
  },
  {
   "cell_type": "code",
   "execution_count": 13,
   "metadata": {
    "collapsed": false
   },
   "outputs": [
    {
     "name": "stdout",
     "output_type": "stream",
     "text": [
      "chars in sentence: 102\n",
      "first occurence of r at index: 17\n",
      "occurences of i: 7\n",
      "words in sentence: 18\n"
     ]
    }
   ],
   "source": [
    "sentence = 'You can’t win, Darth. Strike me down, and I will become more powerful than you could possibly imagine.'\n",
    "length = len(sentence)\n",
    "print('chars in sentence: {}'.format(length))\n",
    "print('first occurence of r at index: {}'.format(sentence.index('r')))\n",
    "\n",
    "from collections import Counter\n",
    "counter = Counter(sentence.lower())\n",
    "print('occurences of i: {}'.format(counter['i']))\n",
    "sent_split = sentence.split(' ')\n",
    "print('words in sentence: {}'.format(len(sent_split)))\n"
   ]
  },
  {
   "cell_type": "markdown",
   "metadata": {},
   "source": [
    "<a name=\"beginner4\"></a>\n",
    "### Beginner Challenge 4\n",
    "\n",
    "**Given a list:**\n",
    "    \n",
    "```python    \n",
    "a = [1, 1, 2, 3, 5, 8, 13, 21, 34, 55, 89]\n",
    "```\n",
    "\n",
    "Write a program that prints out all of the elements of the list that are less than 5\n",
    "\n",
    "#### Bonus 1:\n",
    "Instead of printing the elements one by one, make a new list that has all the elements less than 5 from this list in it and print out this new list.\n",
    "\n",
    "#### Bonus 2:\n",
    "Ask the user for a number and return a list that contains only elements from the original list a that are smaller than that number given by the user.    \n",
    "    "
   ]
  },
  {
   "cell_type": "code",
   "execution_count": 18,
   "metadata": {
    "collapsed": false
   },
   "outputs": [
    {
     "name": "stdout",
     "output_type": "stream",
     "text": [
      "1\n",
      "1\n",
      "2\n",
      "3\n",
      "new list...\n",
      "[1, 1, 2, 3]\n",
      "number plox: 5\n",
      "new user input list...\n",
      "[1, 1, 2, 3]\n"
     ]
    }
   ],
   "source": [
    "a = [1, 1, 2, 3, 5, 8, 13, 21, 34, 55, 89]\n",
    "b = []\n",
    "for i in a:\n",
    "    if i < 5:\n",
    "        print(i)\n",
    "\n",
    "for k in a:\n",
    "    if k < 5:\n",
    "        b.append(k)\n",
    "        \n",
    "print('new list...')\n",
    "print(b)\n",
    "\n",
    "z = []\n",
    "uip = int(input('number plox: '))\n",
    "for f in a:\n",
    "    if f < uip:\n",
    "        z.append(f)\n",
    "print('new user input list...')\n",
    "print(z)"
   ]
  },
  {
   "cell_type": "markdown",
   "metadata": {},
   "source": [
    "<a name=\"beginner5\"></a>\n",
    "### Beginner Challenge 5\n",
    "\n",
    "Take two lists, say for example these two:\n",
    "\n",
    "```python\n",
    "a = [1, 1, 2, 3, 5, 8, 13, 21, 34, 55, 89]\n",
    "b = [1, 2, 3, 4, 5, 6, 7, 8, 9, 10, 11, 12, 13]\n",
    "```\n",
    "    \n",
    "and write a program that returns a list that contains only the elements that are common between the lists (without duplicates). Make sure your program works on two lists of different sizes.\n",
    "\n",
    "<a href=\"#top\">Top of Page</a>"
   ]
  },
  {
   "cell_type": "code",
   "execution_count": 22,
   "metadata": {
    "collapsed": false
   },
   "outputs": [
    {
     "name": "stdout",
     "output_type": "stream",
     "text": [
      "[1, 2, 3, 5, 8, 13]\n"
     ]
    }
   ],
   "source": [
    "a = [1, 1, 2, 3, 5, 8, 13, 21, 34, 55, 89]\n",
    "b = [1, 2, 3, 4, 5, 6, 7, 8, 9, 10, 11, 12, 13]\n",
    "\n",
    "c = list(set(a) & set(b))\n",
    "print(c)"
   ]
  },
  {
   "cell_type": "markdown",
   "metadata": {},
   "source": [
    "<a name=\"beginner6\"></a>\n",
    "### Beginner Challenge 6\n",
    "\n",
    "<img src='http://i.imgur.com/6NRU8nW.gif'>\n",
    "\n",
    "In this exercise, the task is to write a function that picks a random word from a list of words from the SOWPODS dictionary. The file is named \"sowpods.txt\" in your directory. This file is Peter Norvig’s compilation of the dictionary of words used in professional Scrabble tournaments. Each line in the file contains a single word.\n",
    "\n",
    "#### Bonus 1:\n",
    "What is the first word in the list?\n",
    "\n",
    "#### Bonus 2:\n",
    "What is the last word in the list?\n",
    "\n",
    "#### Bonus 3:\n",
    "What is the word in the middle of the list?\n",
    "\n",
    "#### Bonus 4:\n",
    "What is the word in the list that is the 85,041 entry?\n",
    "\n",
    "#### Bonus 5:\n",
    "Using the random library, read all of the lists of words, generate a random number and print that word.\n",
    "\n",
    "Hint: The random.choice method will allow you to choose a random element from a non-empty sequence\n",
    "\n",
    "#### Bonus 6:\n",
    "Using the REGEX library (re), find all words that start with \"zamb\".\n",
    "\n",
    "<a href=\"#top\">Top of Page</a>"
   ]
  },
  {
   "cell_type": "code",
   "execution_count": 75,
   "metadata": {
    "collapsed": false
   },
   "outputs": [
    {
     "ename": "FileNotFoundError",
     "evalue": "[Errno 2] No such file or directory: 'C:\\\\Users\\\\Evan\\\\Desktop\\\\PyNight - boozallen\\\\PyNight\\\\sowpods.txt'",
     "output_type": "error",
     "traceback": [
      "\u001b[0;31m---------------------------------------------------------------------------\u001b[0m",
      "\u001b[0;31mFileNotFoundError\u001b[0m                         Traceback (most recent call last)",
      "\u001b[0;32m<ipython-input-75-c2db71c4ec99>\u001b[0m in \u001b[0;36m<module>\u001b[0;34m()\u001b[0m\n\u001b[1;32m      1\u001b[0m \u001b[0mfileIn\u001b[0m \u001b[1;33m=\u001b[0m \u001b[1;34mr'C:\\Users\\Evan\\Desktop\\PyNight - boozallen\\PyNight\\sowpods.txt'\u001b[0m\u001b[1;33m\u001b[0m\u001b[0m\n\u001b[1;32m      2\u001b[0m \u001b[0mmyList\u001b[0m \u001b[1;33m=\u001b[0m \u001b[1;33m[\u001b[0m\u001b[1;33m]\u001b[0m\u001b[1;33m\u001b[0m\u001b[0m\n\u001b[0;32m----> 3\u001b[0;31m \u001b[1;32mwith\u001b[0m \u001b[0mopen\u001b[0m \u001b[1;33m(\u001b[0m\u001b[0mfileIn\u001b[0m\u001b[1;33m,\u001b[0m \u001b[1;34m'r'\u001b[0m\u001b[1;33m)\u001b[0m \u001b[1;32mas\u001b[0m \u001b[0mb\u001b[0m\u001b[1;33m:\u001b[0m\u001b[1;33m\u001b[0m\u001b[0m\n\u001b[0m\u001b[1;32m      4\u001b[0m     \u001b[0mc\u001b[0m \u001b[1;33m=\u001b[0m \u001b[0mb\u001b[0m\u001b[1;33m.\u001b[0m\u001b[0mreadlines\u001b[0m\u001b[1;33m(\u001b[0m\u001b[1;33m)\u001b[0m\u001b[1;33m\u001b[0m\u001b[0m\n\u001b[1;32m      5\u001b[0m     \u001b[1;32mfor\u001b[0m \u001b[0mi\u001b[0m \u001b[1;32min\u001b[0m \u001b[0mc\u001b[0m\u001b[1;33m:\u001b[0m\u001b[1;33m\u001b[0m\u001b[0m\n",
      "\u001b[0;31mFileNotFoundError\u001b[0m: [Errno 2] No such file or directory: 'C:\\\\Users\\\\Evan\\\\Desktop\\\\PyNight - boozallen\\\\PyNight\\\\sowpods.txt'"
     ]
    }
   ],
   "source": [
    "fileIn = r'C:\\Users\\Evan\\Desktop\\PyNight - boozallen\\PyNight\\sowpods.txt'\n",
    "myList = []\n",
    "with open (fileIn, 'r') as b:\n",
    "    c = b.readlines()\n",
    "    for i in c:\n",
    "        myList.append(i.rstrip('\\n').split(','))\n",
    "    print('first word: {}, last word: {}'.format(myList[0], myList[-1]))\n",
    "    mindex = int(len(myList)/2)\n",
    "    print('middle word: {}, at index 85041: {}'.format(myList[mindex], myList[85041]))\n",
    "    \n",
    "    import random\n",
    "    #n = random.choice(myList)    # mo better way below\n",
    "    #print(n)\n",
    "    print('word at random spot: {}'.format(random.choice(myList)))\n",
    "    \n",
    "    sw = []\n",
    "    import re\n",
    "    better = [item for sublist in myList for item in sublist]\n",
    "    print(better)\n",
    "    \n",
    "    #regex=re.compile('^ZAMB')\n",
    "    \n",
    "    #for w in better:\n",
    "        #if re.match('ZAMB', word):\n",
    "            #sw.append(w)\n",
    "    #print(sw)\n",
    "    \n"
   ]
  },
  {
   "cell_type": "code",
   "execution_count": null,
   "metadata": {
    "collapsed": true
   },
   "outputs": [],
   "source": []
  }
 ],
 "metadata": {
  "anaconda-cloud": {},
  "kernelspec": {
   "display_name": "Python [default]",
   "language": "python",
   "name": "python3"
  },
  "language_info": {
   "codemirror_mode": {
    "name": "ipython",
    "version": 3
   },
   "file_extension": ".py",
   "mimetype": "text/x-python",
   "name": "python",
   "nbconvert_exporter": "python",
   "pygments_lexer": "ipython3",
   "version": "3.5.2"
  }
 },
 "nbformat": 4,
 "nbformat_minor": 2
}
